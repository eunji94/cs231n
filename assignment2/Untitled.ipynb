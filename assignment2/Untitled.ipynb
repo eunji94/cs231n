{
 "cells": [
  {
   "cell_type": "code",
   "execution_count": 5,
   "metadata": {},
   "outputs": [
    {
     "name": "stdout",
     "output_type": "stream",
     "text": [
      "[[ 1.05101991  0.00277375  1.88719488]\n",
      " [-1.07404317  0.49688698  1.77904649]]\n",
      "[ 0.  0.  0.]\n",
      "(3,)\n"
     ]
    }
   ],
   "source": [
    "import numpy as np\n",
    "\n",
    "input_dim = 2\n",
    "hidden_dim = 3\n",
    "W1 = np.random.normal(0, 1, input_dim * hidden_dim).reshape((input_dim, hidden_dim))\n",
    "print(W1)\n",
    "b1 = np.zeros(hidden_dim)\n",
    "print(b1)\n",
    "print(b1.shape)"
   ]
  },
  {
   "cell_type": "code",
   "execution_count": null,
   "metadata": {
    "collapsed": true
   },
   "outputs": [],
   "source": []
  }
 ],
 "metadata": {
  "kernelspec": {
   "display_name": "cs231n_36",
   "language": "python",
   "name": "cs231n_36"
  },
  "language_info": {
   "codemirror_mode": {
    "name": "ipython",
    "version": 3
   },
   "file_extension": ".py",
   "mimetype": "text/x-python",
   "name": "python",
   "nbconvert_exporter": "python",
   "pygments_lexer": "ipython3",
   "version": "3.6.4"
  }
 },
 "nbformat": 4,
 "nbformat_minor": 2
}
